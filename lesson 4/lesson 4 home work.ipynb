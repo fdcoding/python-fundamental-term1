{
 "cells": [
  {
   "cell_type": "markdown",
   "id": "9dd8cae8",
   "metadata": {},
   "source": [
    "## Question one:  right_justify \n",
    "Write a function named right_justify that takes a string named s as a parameter and prints the\n",
    "string with enough leading spaces so that the last letter of the string is in column 70 of the display\n",
    "\n",
    "right_justify('allen')\n",
    "                                      allen"
   ]
  },
  {
   "cell_type": "code",
   "execution_count": null,
   "id": "44a944b8",
   "metadata": {},
   "outputs": [],
   "source": []
  },
  {
   "cell_type": "markdown",
   "id": "c4afac12",
   "metadata": {},
   "source": [
    "## Question two:  check if a number is Daffodil number\n",
    "A Daffodil number is a three-digit number that is equal to the sum of the cubes of its individual digits. For example, the number 153 is a Daffodil number because 1^3 + 5^3 + 3^3 = 1 + 125 + 27 = 153\n",
    "\n",
    "can you define a function to check if a three-digit number is Daffodil number\n",
    "\n",
    "IsDaffodilNummber(153) -> true\n",
    "IsDaffodilNumber(123) -> false\n"
   ]
  },
  {
   "cell_type": "code",
   "execution_count": null,
   "id": "4d0df275",
   "metadata": {},
   "outputs": [],
   "source": []
  }
 ],
 "metadata": {
  "kernelspec": {
   "display_name": "Python 3 (ipykernel)",
   "language": "python",
   "name": "python3"
  },
  "language_info": {
   "codemirror_mode": {
    "name": "ipython",
    "version": 3
   },
   "file_extension": ".py",
   "mimetype": "text/x-python",
   "name": "python",
   "nbconvert_exporter": "python",
   "pygments_lexer": "ipython3",
   "version": "3.10.10"
  }
 },
 "nbformat": 4,
 "nbformat_minor": 5
}

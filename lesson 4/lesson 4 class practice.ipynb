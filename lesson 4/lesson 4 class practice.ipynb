{
 "cells": [
  {
   "cell_type": "markdown",
   "id": "f25fa536",
   "metadata": {},
   "source": [
    "# Know built-in functions"
   ]
  },
  {
   "cell_type": "markdown",
   "id": "89cbc530",
   "metadata": {},
   "source": [
    "Below built-in functions we know before, please run the program "
   ]
  },
  {
   "cell_type": "code",
   "execution_count": 3,
   "id": "2b6892e0",
   "metadata": {},
   "outputs": [
    {
     "name": "stdout",
     "output_type": "stream",
     "text": [
      "please type the float3.8\n",
      "7.6\n"
     ]
    }
   ],
   "source": [
    "# convert a string to float \n",
    "floatInput = input(\"please input the float\")\n",
    "floatValue = float(floatInput)  \n",
    "print(floatValue*2)"
   ]
  },
  {
   "cell_type": "code",
   "execution_count": 6,
   "id": "f8a5c31c",
   "metadata": {},
   "outputs": [
    {
     "name": "stdout",
     "output_type": "stream",
     "text": [
      "Happy rabbit new year to Tom\n"
     ]
    }
   ],
   "source": [
    "# string format \n",
    "greetingTemplate = \"Happy {} new year to {}\"\n",
    "greeting = greetingTemplate.format( \"rabbit\", \"Tom\")\n",
    "print(greeting)"
   ]
  },
  {
   "cell_type": "code",
   "execution_count": 7,
   "id": "c496ec27",
   "metadata": {},
   "outputs": [
    {
     "name": "stdout",
     "output_type": "stream",
     "text": [
      "lease input a integer11\n",
      "33\n"
     ]
    }
   ],
   "source": [
    "# function int() convert strint to integer\n",
    "intString = input(\"please input a integer\")\n",
    "intValue = int(intString)\n",
    "print(intValue *3)"
   ]
  },
  {
   "cell_type": "code",
   "execution_count": 8,
   "id": "6b2a7797",
   "metadata": {},
   "outputs": [
    {
     "name": "stdout",
     "output_type": "stream",
     "text": [
      "14\n"
     ]
    }
   ],
   "source": [
    "# function len() get the length of a string\n",
    "stringValue = \"My name is Tom\"\n",
    "print(len(stringValue))"
   ]
  },
  {
   "cell_type": "code",
   "execution_count": 11,
   "id": "ef112927",
   "metadata": {},
   "outputs": [
    {
     "name": "stdout",
     "output_type": "stream",
     "text": [
      "6.2\n",
      "3.13.1\n",
      "1010101010\n"
     ]
    }
   ],
   "source": [
    "# function str() convert integer,float,bool to string\n",
    "print(str(3.1*2))\n",
    "print(str(3.1) * 2 )\n",
    "print(str(10)*5)"
   ]
  },
  {
   "cell_type": "markdown",
   "id": "876ed114",
   "metadata": {},
   "source": [
    "# Practice one "
   ]
  },
  {
   "cell_type": "markdown",
   "id": "8942fe45",
   "metadata": {},
   "source": [
    "below built-in functions we don't know before, please try and discover the functionation "
   ]
  },
  {
   "cell_type": "code",
   "execution_count": null,
   "id": "5398573c",
   "metadata": {},
   "outputs": [],
   "source": [
    "# ABS function \n",
    "print(abs(-100))\n",
    "print(abs(100))"
   ]
  },
  {
   "cell_type": "code",
   "execution_count": null,
   "id": "5ecc3f89",
   "metadata": {},
   "outputs": [],
   "source": [
    "# discover the evaluation function eval\n",
    "print(eval('15+20*100'))\n",
    "evalValue = input('please input your expression')\n",
    "print(eval(evalValue))"
   ]
  },
  {
   "cell_type": "code",
   "execution_count": 15,
   "id": "f3144e2a",
   "metadata": {},
   "outputs": [
    {
     "name": "stdout",
     "output_type": "stream",
     "text": [
      "2\n",
      "23\n",
      "54\n"
     ]
    }
   ],
   "source": [
    "# min, max, sum \n",
    "myList = [5, 9, 2, 15, 23]\n",
    "print(min(5,9,2,15,23))\n",
    "print(max(5,9,2,15,23))\n",
    "print(sum([5,9,2,15,23]))"
   ]
  },
  {
   "cell_type": "markdown",
   "id": "8ac85059",
   "metadata": {},
   "source": [
    "# Function Parameter and Argument "
   ]
  },
  {
   "cell_type": "markdown",
   "id": "42f31a54",
   "metadata": {},
   "source": [
    "In Python, a parameter is a variable that is defined in a function's definition, and an argument is the value that is passed to a function when it is called.\n",
    "\n",
    "The difference between a parameter and an argument is that a parameter is part of the function's definition and describes what type of input the function can accept, while an argument is the actual value that is passed to the function when it is called"
   ]
  },
  {
   "cell_type": "code",
   "execution_count": 18,
   "id": "dd72ea8f",
   "metadata": {},
   "outputs": [],
   "source": [
    "def add_numbers(parameterA, parameterB):\n",
    "    return parameterA + parameterB"
   ]
  },
  {
   "cell_type": "code",
   "execution_count": 20,
   "id": "78e20f8e",
   "metadata": {},
   "outputs": [
    {
     "name": "stdout",
     "output_type": "stream",
     "text": [
      "28\n",
      "28\n"
     ]
    }
   ],
   "source": [
    "argumentA = 13\n",
    "argumentB = 15\n",
    "print(add_numbers(argumentA, argumentB))\n",
    "print(add_numbers(13,15))"
   ]
  },
  {
   "cell_type": "markdown",
   "id": "1bb7d342",
   "metadata": {},
   "source": [
    "## Practice two"
   ]
  },
  {
   "cell_type": "code",
   "execution_count": 26,
   "id": "3caa272b",
   "metadata": {},
   "outputs": [
    {
     "name": "stdout",
     "output_type": "stream",
     "text": [
      "Good Morning Tom!\n"
     ]
    }
   ],
   "source": [
    "import time\n",
    "t = time.localtime()\n",
    "\n",
    "\n",
    "def greeting(name, hour):\n",
    "    if hour < 12:\n",
    "        print('Good Morning ' + name + '!')\n",
    "    elif hour < 18:\n",
    "        print('Good Afternoon ' + name + '!')\n",
    "    else:\n",
    "        print('Good night ' + name + '!')\n",
    "\n",
    "now_hours = t.tm_hour\n",
    "greeting(\"Harry\", now_hours)\n",
    "# change the value when call the greeting function to get \"Good Afternoon Harry\"\n",
    "\n",
    "# change the value when call the greeting function to get \"Good night Harry\""
   ]
  },
  {
   "cell_type": "code",
   "execution_count": null,
   "id": "dc0fef56",
   "metadata": {},
   "outputs": [],
   "source": [
    "def IsPrime(num):\n",
    "    for i in range(2,num-1):\n",
    "        if num % i == 0:\n",
    "            return False\n",
    "    return True\n",
    "\n",
    "# the function IsPrime() can check\n",
    "#if a number is prime or not\n",
    "# write a program print all the \n",
    "#prime numbers between 1 to 100\n"
   ]
  },
  {
   "cell_type": "code",
   "execution_count": null,
   "id": "593d9a4a",
   "metadata": {},
   "outputs": [],
   "source": [
    "# define the function place_order with parameter\n",
    "# burger type, fry size and drinks\n",
    "\n",
    "def PlaceOrder(burgeType, frySize, drinks):\n",
    "    print(\"welcome to Mcdonald.\")\n",
    "    print(\"Prepare your burge \" + burgeType )\n",
    "    #??? add code prepare the fry\n",
    "    #??? add code prepare the drink\n",
    "    print(\"all done and enjoy your meal.\")\n",
    "\n",
    "\n",
    "print(\"Tony go to Mcdonald\")\n",
    "PlaceOrder(\"chees burge\", \"small size\", \"soda drink\")\n",
    "print(\"Jerry go to Mcdonald\")\n",
    "PlaceOrder(\"chick burge\", \"large size\", \"coco\")\n",
    "# finish the code you order a lunch meal at Mconald"
   ]
  },
  {
   "cell_type": "markdown",
   "id": "5b68433c",
   "metadata": {},
   "source": [
    "# Get my weight on the moon"
   ]
  },
  {
   "cell_type": "code",
   "execution_count": null,
   "id": "cf53c42f",
   "metadata": {},
   "outputs": [],
   "source": [
    "def my_weight_on_the_moon(weight_now, year):\n",
    "    weight_at_year = weight_now + (year-2023) * 1\n",
    "    weight_on_the_moon = weight_at_year * 0.165\n",
    "    return round(weight_on_the_moon,2)"
   ]
  },
  {
   "cell_type": "code",
   "execution_count": null,
   "id": "7499e0ef",
   "metadata": {},
   "outputs": [],
   "source": []
  },
  {
   "cell_type": "code",
   "execution_count": 30,
   "id": "064e49b4",
   "metadata": {},
   "outputs": [
    {
     "name": "stdout",
     "output_type": "stream",
     "text": [
      "please input you weight now20\n",
      "my weight on the moon at year 2023 is 3.3\n",
      "my weight on the moon at year 2024 is 3.47\n",
      "my weight on the moon at year 2025 is 3.63\n",
      "my weight on the moon at year 2026 is 3.8\n",
      "my weight on the moon at year 2027 is 3.96\n",
      "my weight on the moon at year 2028 is 4.12\n",
      "my weight on the moon at year 2029 is 4.29\n",
      "my weight on the moon at year 2030 is 4.46\n",
      "my weight on the moon at year 2031 is 4.62\n",
      "my weight on the moon at year 2032 is 4.79\n",
      "my weight on the moon at year 2033 is 4.95\n",
      "my weight on the moon at year 2034 is 5.12\n"
     ]
    }
   ],
   "source": [
    "weight_now_string = input(\"please input you weight now \")\n",
    "weight_now = float(weight_now_string)\n",
    "for year in range(2023,2035):\n",
    "    weight_at_year = my_weight_on_the_moon(weight_now, year)\n",
    "    print(\"my weight on the moon at year \" + str(year) + \" is \" + str(weight_at_year) )"
   ]
  },
  {
   "cell_type": "markdown",
   "id": "5a671eef",
   "metadata": {},
   "source": [
    "## Practice 3-1 one function for Tom and Jerry"
   ]
  },
  {
   "cell_type": "code",
   "execution_count": null,
   "id": "3bf08074",
   "metadata": {},
   "outputs": [],
   "source": [
    "def my_weight_on_the_moon_tom(weight_now, year):\n",
    "    weight_at_year = weight_now + (year-2023) * 1\n",
    "    weight_on_the_moon = weight_at_year * 0.165\n",
    "    return round(weight_on_the_moon,2)"
   ]
  },
  {
   "cell_type": "code",
   "execution_count": null,
   "id": "b2bf98dd",
   "metadata": {},
   "outputs": [],
   "source": [
    "def my_weight_on_the_moon_jerry(weight_now, year):\n",
    "    weight_at_year = weight_now + (year-2023) * 5\n",
    "    weight_on_the_moon = weight_at_year * 0.165\n",
    "    return round(weight_on_the_moon,2)"
   ]
  },
  {
   "cell_type": "code",
   "execution_count": null,
   "id": "600f81cb",
   "metadata": {},
   "outputs": [],
   "source": [
    "weight_now_string = input(\"Tom, please input you weight now \")\n",
    "weight_now = float(weight_now_string)\n",
    "for year in range(2023,2035):\n",
    "    weight_at_year = my_weight_on_the_moon_herry(weight_now, year)\n",
    "    print(\"Tom's weight on the moon at year \" + str(year) + \" is \" + str(weight_at_year) )"
   ]
  },
  {
   "cell_type": "code",
   "execution_count": null,
   "id": "ff641d38",
   "metadata": {},
   "outputs": [],
   "source": [
    "weight_now_string = input(\"Jerry, please input you weight now \")\n",
    "weight_now = float(weight_now_string)\n",
    "for year in range(2023,2035):\n",
    "    weight_at_year = my_weight_on_the_moon_Jerry(weight_now, year)\n",
    "    print(\"Jerry's weight on the moon at year \" + str(year) + \" is \" + str(weight_at_year) )"
   ]
  },
  {
   "cell_type": "markdown",
   "id": "fc386e56",
   "metadata": {},
   "source": [
    "Practice 3-1, can you merge those two functions,\n",
    "make it can show both Tom and Jerry 's weight at moon"
   ]
  },
  {
   "cell_type": "code",
   "execution_count": null,
   "id": "142eb522",
   "metadata": {},
   "outputs": [],
   "source": []
  },
  {
   "cell_type": "markdown",
   "id": "f1544292",
   "metadata": {},
   "source": [
    "## Practice 3-2, weight on other world\n",
    "Suppose you are travel at the university,\n",
    "calculate you weight at different world \n",
    "mercury: weight at earth * 0.38\n",
    "venus: weight at earth * 0.9\n",
    "moon:  weight at earth * 0.165\n",
    "mars: weight at earth * 0.38\n",
    "jupyter: weight at earth * 2.34"
   ]
  },
  {
   "cell_type": "code",
   "execution_count": null,
   "id": "9ee70a48",
   "metadata": {},
   "outputs": [],
   "source": [
    "\n",
    "def my_weight_on_the_world(weight_now, year, world_name):\n",
    "    ???\n",
    "\n",
    "weight_earch_string = input(\"please input you weight now \")\n",
    "world_name = input(\"which world are you current in\")\n",
    "weight_earch = float(weight_now_string)\n",
    "weight_world = my_weight_on_the_world(weight_earch, 2023, \"moon\")\n",
    "print(\"My weight at world \" + world_name + \" is \" + weight_world )"
   ]
  }
 ],
 "metadata": {
  "kernelspec": {
   "display_name": "Python 3 (ipykernel)",
   "language": "python",
   "name": "python3"
  },
  "language_info": {
   "codemirror_mode": {
    "name": "ipython",
    "version": 3
   },
   "file_extension": ".py",
   "mimetype": "text/x-python",
   "name": "python",
   "nbconvert_exporter": "python",
   "pygments_lexer": "ipython3",
   "version": "3.10.10"
  }
 },
 "nbformat": 4,
 "nbformat_minor": 5
}

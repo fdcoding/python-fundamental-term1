{
 "cells": [
  {
   "cell_type": "markdown",
   "id": "ffc163bd",
   "metadata": {},
   "source": [
    "# how many soldier HanXin(韩信）has\n"
   ]
  },
  {
   "cell_type": "markdown",
   "id": "dc3e548a",
   "metadata": {},
   "source": [
    "Han Xin led 1000 to 1500 soldiers to fight, if these soldiers line up 3 people stand in a row, and there are 2 more soldiers. if line up with 5 people fighting in a row, there are 3 more people, if they line up with 7 people standing in a row, 2 more people, ask Han Xin how many soldiers are there."
   ]
  },
  {
   "cell_type": "code",
   "execution_count": null,
   "id": "b7a73236",
   "metadata": {},
   "outputs": [],
   "source": []
  }
 ],
 "metadata": {
  "kernelspec": {
   "display_name": "Python 3 (ipykernel)",
   "language": "python",
   "name": "python3"
  },
  "language_info": {
   "codemirror_mode": {
    "name": "ipython",
    "version": 3
   },
   "file_extension": ".py",
   "mimetype": "text/x-python",
   "name": "python",
   "nbconvert_exporter": "python",
   "pygments_lexer": "ipython3",
   "version": "3.10.9"
  }
 },
 "nbformat": 4,
 "nbformat_minor": 5
}

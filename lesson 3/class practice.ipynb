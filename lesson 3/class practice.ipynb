{
 "cells": [
  {
   "cell_type": "markdown",
   "metadata": {},
   "source": [
    "\n"
   ]
  },
  {
   "cell_type": "markdown",
   "metadata": {},
   "source": [
    "# understand boolean values"
   ]
  },
  {
   "cell_type": "code",
   "execution_count": 1,
   "metadata": {},
   "outputs": [
    {
     "name": "stdout",
     "output_type": "stream",
     "text": [
      "True\n",
      "True\n",
      "False\n"
     ]
    }
   ],
   "source": [
    "# run below python code\n",
    "IsStudent = True\n",
    "print(IsStudent)\n",
    "print( 8 >= 7)\n",
    "print( \"Mike\" == \"mike\")"
   ]
  },
  {
   "cell_type": "markdown",
   "metadata": {},
   "source": [
    "# learn bool operation"
   ]
  },
  {
   "cell_type": "code",
   "execution_count": 5,
   "metadata": {},
   "outputs": [
    {
     "name": "stdout",
     "output_type": "stream",
     "text": [
      "False\n",
      "False\n"
     ]
    }
   ],
   "source": [
    "print( True and False)\n",
    "print(not True)"
   ]
  },
  {
   "cell_type": "code",
   "execution_count": 4,
   "metadata": {},
   "outputs": [
    {
     "name": "stdout",
     "output_type": "stream",
     "text": [
      "True\n",
      "answer value ture or false? \n",
      "false\n",
      "you can ask teacher, if you have question about the answer\n"
     ]
    }
   ],
   "source": [
    "answer = True and True\n",
    "boolInput = input('answer is True or False? \\n')\n",
    "if str(answer).lower() == boolInput.lower():\n",
    "    print('you are awesome.')\n",
    "else:\n",
    "    print('you can ask teacher, if you have question about the answer')"
   ]
  },
  {
   "cell_type": "code",
   "execution_count": 5,
   "metadata": {},
   "outputs": [
    {
     "name": "stdout",
     "output_type": "stream",
     "text": [
      "answer value ture or false? \n",
      "false\n",
      "you can ask teacher, if you have question about the answer\n"
     ]
    }
   ],
   "source": [
    "answer = True or False\n",
    "boolInput = input('answer is True or False? \\n')\n",
    "if str(answer).lower() == boolInput.lower():\n",
    "    print('you are awesome.')\n",
    "else:\n",
    "    print('you can ask teacher, if you have question about the answer')"
   ]
  },
  {
   "cell_type": "code",
   "execution_count": 6,
   "metadata": {},
   "outputs": [
    {
     "name": "stdout",
     "output_type": "stream",
     "text": [
      "answer value True or False? \n",
      "True\n",
      "you can ask teacher, if you have question about the answer\n"
     ]
    }
   ],
   "source": [
    "answer = False or False\n",
    "boolInput = input('answer is True or False? \\n')\n",
    "if str(answer).lower() == boolInput.lower():\n",
    "    print('you are awesome.')\n",
    "else:\n",
    "    print('you can ask teacher, if you have question about the answer')"
   ]
  },
  {
   "cell_type": "markdown",
   "metadata": {},
   "source": [
    "# learn while true loop"
   ]
  },
  {
   "cell_type": "code",
   "execution_count": 2,
   "metadata": {},
   "outputs": [
    {
     "name": "stdout",
     "output_type": "stream",
     "text": [
      "33\n"
     ]
    }
   ],
   "source": [
    "import random\n",
    "import time\n",
    "\n",
    "#generate a integer randomly between 1 to 100\n",
    "print(random.randint(1,100))\n",
    "time.sleep(2)"
   ]
  },
  {
   "cell_type": "code",
   "execution_count": 3,
   "metadata": {},
   "outputs": [
    {
     "name": "stdout",
     "output_type": "stream",
     "text": [
      "2\n",
      "4\n",
      "6\n",
      "8\n",
      "10\n",
      "12\n"
     ]
    }
   ],
   "source": [
    "#learn while True loop\n",
    "age = 0\n",
    "while True:\n",
    "    age = age + 1\n",
    "    if age % 2 ==1: \n",
    "        continue\n",
    "    else:\n",
    "        print(age)\n",
    "    if age >= 12:\n",
    "        break"
   ]
  },
  {
   "cell_type": "markdown",
   "metadata": {},
   "source": [
    "# Practice 2 finish dragon realm game"
   ]
  },
  {
   "cell_type": "code",
   "execution_count": null,
   "metadata": {},
   "outputs": [],
   "source": [
    "import random\n",
    "import time\n",
    "print('''You are in a land full of dragons. In front of you,\n",
    "you see two caves. In one cave, the dragon is friendly\n",
    "and will share his treasure with you. The other dragon\n",
    "is greedy and hungry, and will eat you on sight.\n",
    "''')\n",
    "\n",
    "while True:\n",
    "    cave = input('which cave will you go into? 1 or 2\\n')\n",
    "    if ???: # missing code here check input should be 1 or 2 \n",
    "        print('please input 1 or 2')\n",
    "        continue\n",
    "    else:\n",
    "        print('You approatch the cave')\n",
    "        time.sleep(2)\n",
    "        print('It is dark and spooky')\n",
    "        time.sleep(2)\n",
    "        print('A large dragon jumps out in front of you! He open his Jaws...\\n')\n",
    "        time.sleep(2)\n",
    "        friendlyCave = ???  #missing code here, calculate random number 1 or 2\n",
    "        if ???:  # missing code here check cave is friendly cave\n",
    "            print('Gives you his treasure!')\n",
    "        else:\n",
    "            print('Gobbles you down in one bite!')\n",
    "    playAgain = input('will you play again, Yes or No\\n').lower()\n",
    "    if ???: #missing code here check playAgain equal no\n",
    "        print('Thank you and see you later')\n",
    "        break\n"
   ]
  },
  {
   "cell_type": "markdown",
   "metadata": {},
   "source": [
    "# Practice 3 finish Rock Paper Scissor Game"
   ]
  },
  {
   "cell_type": "code",
   "execution_count": null,
   "metadata": {},
   "outputs": [],
   "source": [
    "import random\n",
    "options = [\"rock\", \"paper\", \"scissors\"]\n",
    "computer_choice = random.choice(options)\n",
    "print(\"Rock, Paper, Scissors, Beat the computer.\")\n",
    "while True:\n",
    "    player_choice = input(\"please enter your choice: rock, paper, or scissors?\\n\").lower()\n",
    "    if ???: # add code to check the input \n",
    "        print(\"Invalid choice. Please try again.\")\n",
    "        continue   \n",
    "    else:\n",
    "        computer_choice = random.choice(options)\n",
    "        if ???: # add code check if choice is same\n",
    "            print(\"Tie!\")            \n",
    "        elif ???: # add code if you choice Rock and computer choice scissors\n",
    "            print(\"You win! Rock beats Scissors\")           \n",
    "        elif ???: # add code if you choice Paper and computer choice Rock\n",
    "            print(\"You win! Paper beats Rock\")          \n",
    "        elif ???: # add code if you choice Scissor and computer choice Paper\n",
    "            print(\"You win! Scissors beat Paper\")           \n",
    "        else:\n",
    "            print(\"You lose! {} beats {}\".format(computer_choice, player_choice))            \n",
    "        is_continue = input(\"Will you continue? Yes or No \\n\").lower()\n",
    "        if ???: # add code if the continue is yes\n",
    "            continue\n",
    "        else:\n",
    "            print(\"thank you, see you later.\")\n",
    "            break"
   ]
  }
 ],
 "metadata": {
  "kernelspec": {
   "display_name": "Python 3",
   "language": "python",
   "name": "python3"
  },
  "language_info": {
   "codemirror_mode": {
    "name": "ipython",
    "version": 3
   },
   "file_extension": ".py",
   "mimetype": "text/x-python",
   "name": "python",
   "nbconvert_exporter": "python",
   "pygments_lexer": "ipython3",
   "version": "3.9.0"
  }
 },
 "nbformat": 4,
 "nbformat_minor": 5
}

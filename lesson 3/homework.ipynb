{
 "cells": [
  {
   "cell_type": "markdown",
   "metadata": {},
   "source": [
    "# Question 1 What shold I wear?"
   ]
  },
  {
   "attachments": {},
   "cell_type": "markdown",
   "metadata": {},
   "source": [
    "Please write a program that gives people suggestion on what to wear based on the weather of the day.\n",
    "The idea is:\n",
    "-if it is cold and raining: wear a rain coat\n",
    "-if it is raining but not cold: take an umbrella\n",
    "-if lt is not raining but cold: put on a jacket\n",
    "-if it is not raining and not cold: wear whatever you want\n",
    "\n",
    "View the image for a better idea of how the code should work!\n",
    "\n"
   ]
  },
  {
   "cell_type": "code",
   "execution_count": null,
   "metadata": {},
   "outputs": [],
   "source": []
  },
  {
   "cell_type": "markdown",
   "metadata": {},
   "source": [
    "# Question 2 Can I make a triangle? \n",
    "If you are given three sticks, you may or may not be able to arrange them in a triangle.\n",
    "For example, if one of the sticks is 12 inches long and the other two are one inch long, it is clear\n",
    "that you will not be able to get the short sticks to meet in the middle. For any three lengths, there is\n",
    "a simple test to see if it is possible to form a triangle:\n",
    "“If any of the three lengths is greater than the sum of the other two, then you cannot\n",
    "form a triangle. Otherwise, you can.\n",
    "\n",
    "for example: sticks with 3 , 4, 5 inches can make a triangle, but stickes with 3 , 4, 8 can't make a triangle because 8 > 3 + 4\n",
    "\n",
    "please write a python program, input the lengh of 3 stick and check if you can make a triangle\n",
    "\n",
    "- - - - - \n",
    "please input the length of first stick \n",
    "3\n",
    "please input the length of second sitck \n",
    "4\n",
    "please input the length of the third stick \n",
    "8\n",
    "you can't make a triangle"
   ]
  }
 ],
 "metadata": {
  "kernelspec": {
   "display_name": "Python 3",
   "language": "python",
   "name": "python3"
  },
  "language_info": {
   "codemirror_mode": {
    "name": "ipython",
    "version": 3
   },
   "file_extension": ".py",
   "mimetype": "text/x-python",
   "name": "python",
   "nbconvert_exporter": "python",
   "pygments_lexer": "ipython3",
   "version": "3.9.0"
  }
 },
 "nbformat": 4,
 "nbformat_minor": 5
}

{
 "cells": [
  {
   "cell_type": "markdown",
   "id": "ad92acdb",
   "metadata": {},
   "source": [
    "# Know Python Data and Variable Types"
   ]
  },
  {
   "cell_type": "code",
   "execution_count": 9,
   "id": "657ca9d9",
   "metadata": {},
   "outputs": [
    {
     "name": "stdout",
     "output_type": "stream",
     "text": [
      "11\n"
     ]
    }
   ],
   "source": [
    "ageString = \"10\"\n",
    "age = int(ageString)\n",
    "print(age+1)"
   ]
  },
  {
   "cell_type": "code",
   "execution_count": 10,
   "id": "a0e73c24",
   "metadata": {},
   "outputs": [
    {
     "name": "stdout",
     "output_type": "stream",
     "text": [
      "please input you age10\n"
     ]
    },
    {
     "ename": "TypeError",
     "evalue": "can only concatenate str (not \"int\") to str",
     "output_type": "error",
     "traceback": [
      "\u001b[1;31m---------------------------------------------------------------------------\u001b[0m",
      "\u001b[1;31mTypeError\u001b[0m                                 Traceback (most recent call last)",
      "Cell \u001b[1;32mIn[10], line 2\u001b[0m\n\u001b[0;32m      1\u001b[0m age \u001b[38;5;241m=\u001b[39m \u001b[38;5;28minput\u001b[39m(\u001b[38;5;124m\"\u001b[39m\u001b[38;5;124mplease input you age\u001b[39m\u001b[38;5;124m\"\u001b[39m)\n\u001b[1;32m----> 2\u001b[0m ageNextYear \u001b[38;5;241m=\u001b[39m \u001b[43mage\u001b[49m\u001b[43m \u001b[49m\u001b[38;5;241;43m+\u001b[39;49m\u001b[38;5;241;43m1\u001b[39;49m\n\u001b[0;32m      3\u001b[0m \u001b[38;5;28mprint\u001b[39m(ageNextYear)\n",
      "\u001b[1;31mTypeError\u001b[0m: can only concatenate str (not \"int\") to str"
     ]
    }
   ],
   "source": [
    "# this code may have type Error when run\n",
    "age = input(\"please input you age\")\n",
    "ageNextYear = age +1\n",
    "print(ageNextYear)"
   ]
  },
  {
   "cell_type": "markdown",
   "id": "ae7c7ea6",
   "metadata": {},
   "source": [
    "# Practice 1 data type and type convert"
   ]
  },
  {
   "cell_type": "code",
   "execution_count": 5,
   "id": "23247b58",
   "metadata": {},
   "outputs": [
    {
     "name": "stdout",
     "output_type": "stream",
     "text": [
      "24\n",
      "<class 'int'>\n"
     ]
    }
   ],
   "source": [
    "A = 8   # the type of variable A is integer\n",
    "print(A*3)\n",
    "print(type(A))"
   ]
  },
  {
   "cell_type": "code",
   "execution_count": 6,
   "id": "633b802e",
   "metadata": {},
   "outputs": [
    {
     "name": "stdout",
     "output_type": "stream",
     "text": [
      "26.400000000000002\n",
      "<class 'float'>\n"
     ]
    }
   ],
   "source": [
    "B = 8.8  # the type of variable B is float\n",
    "print(8.8*3)\n",
    "print(type(A))"
   ]
  },
  {
   "cell_type": "code",
   "execution_count": 11,
   "id": "9b1e689b",
   "metadata": {},
   "outputs": [
    {
     "name": "stdout",
     "output_type": "stream",
     "text": [
      "<class 'int'>\n",
      "<class 'float'>\n"
     ]
    }
   ],
   "source": [
    "A = 8 \n",
    "print(type(A)) # the type of variable A is initialize with integer\n",
    "A = 8/3        # after this statment, the type of variable A is float\n",
    "print(type(A)) \n"
   ]
  },
  {
   "cell_type": "code",
   "execution_count": 4,
   "id": "4ece312c",
   "metadata": {},
   "outputs": [
    {
     "name": "stdout",
     "output_type": "stream",
     "text": [
      "888\n",
      "<class 'str'>\n"
     ]
    }
   ],
   "source": [
    "C = \"8\"   # the type Variable C is string\n",
    "print(C*3)\n",
    "print(type(C))"
   ]
  },
  {
   "cell_type": "markdown",
   "id": "0c8ca5fb",
   "metadata": {},
   "source": [
    "# Know Strings"
   ]
  },
  {
   "cell_type": "code",
   "execution_count": null,
   "id": "17da1169",
   "metadata": {},
   "outputs": [],
   "source": [
    "singleQuotationString = 'between single quotation is a string'\n",
    "doubleQuotationString = \"between double quotation is a  string\"\n",
    "tribleQuotationString = '''between trible quotation is a string\n",
    "second line\n",
    "'''\n",
    "print(singleQuotationString)\n",
    "print(doubleQuotationString)\n",
    "print(tribleQuotationString)"
   ]
  },
  {
   "cell_type": "code",
   "execution_count": null,
   "id": "9e6f875b",
   "metadata": {},
   "outputs": [],
   "source": [
    "singleQuotationShouldbeInOneLine = 'single \\' quotation'\n",
    "doubleQuotationShouldbeInOneLine = \"single quotation\"\n",
    "print(singleQuotationShouldbeInOneLine)"
   ]
  },
  {
   "cell_type": "code",
   "execution_count": null,
   "id": "adedf934",
   "metadata": {},
   "outputs": [],
   "source": [
    "firstName = 'haihong'\n",
    "surName = 'yu'\n",
    "fullName = firstName + ' ' + surName\n",
    "print(fullName)  # 'haihong yu'"
   ]
  },
  {
   "cell_type": "code",
   "execution_count": null,
   "id": "627f5438",
   "metadata": {},
   "outputs": [],
   "source": [
    "happyNewYear = \"Happy lunar new year!\" + '\\n'\n",
    "print(3 * happyNewYear)"
   ]
  },
  {
   "cell_type": "code",
   "execution_count": null,
   "id": "e4b0ad6f",
   "metadata": {},
   "outputs": [],
   "source": [
    "name = 'My Name Is Mike'\n",
    "firstSubString = name[0]   # will get \"M\"\n",
    "lastSubString = name[-1]  # will get \"e\"\n",
    "firstSlice = name[0:2]   # will get \"My\""
   ]
  },
  {
   "cell_type": "code",
   "execution_count": null,
   "id": "57baae0d",
   "metadata": {},
   "outputs": [],
   "source": [
    "name = 'haihong'\n",
    "words = 'Good Morning {}!'.format(name)\n",
    "print(words)\n",
    "name = 'Chris'\n",
    "words = 'Good Morning {}!'.format(name)\n",
    "print(words)"
   ]
  },
  {
   "cell_type": "code",
   "execution_count": null,
   "id": "a699fda8",
   "metadata": {},
   "outputs": [],
   "source": [
    "name = 'david'\n",
    "year = 9\n",
    "happyBirthdayTemplate = 'Dear {}, Happy your {} years birthday.'\n",
    "happyBirthdayWords = happyBirthdayTemplate.format(name,year)\n",
    "print(happyBirthdayWords)"
   ]
  },
  {
   "cell_type": "markdown",
   "id": "155af76a",
   "metadata": {},
   "source": [
    "# Practice 2 "
   ]
  },
  {
   "cell_type": "code",
   "execution_count": null,
   "id": "2969e72c",
   "metadata": {},
   "outputs": [],
   "source": [
    "greeting = 'Happy New year'"
   ]
  },
  {
   "cell_type": "code",
   "execution_count": null,
   "id": "ab077360",
   "metadata": {},
   "outputs": [],
   "source": [
    "myHobbies = 'I like tennis and chess'\n"
   ]
  },
  {
   "cell_type": "code",
   "execution_count": 14,
   "id": "a021ce94",
   "metadata": {},
   "outputs": [],
   "source": [
    "# use string template get \n",
    "# Dear Tom, Happy new year of rabbit and \n",
    "# Dear Jerry, Happy new year of tiger"
   ]
  },
  {
   "cell_type": "markdown",
   "id": "3b3e7c44",
   "metadata": {},
   "source": [
    "# Password check and hack "
   ]
  },
  {
   "cell_type": "code",
   "execution_count": 1,
   "id": "69ee67a6",
   "metadata": {},
   "outputs": [],
   "source": [
    "password = \"9987\"  # here is your password "
   ]
  },
  {
   "cell_type": "code",
   "execution_count": 17,
   "id": "78a642bb",
   "metadata": {
    "scrolled": true
   },
   "outputs": [
    {
     "name": "stdout",
     "output_type": "stream",
     "text": [
      "please input your namess\n",
      "please input your password, 4 digital number\n",
      "········\n",
      "your passowrd is wrong\n"
     ]
    }
   ],
   "source": [
    "# password check program\n",
    "import getpass\n",
    "name = input('please input your name')\n",
    "s = getpass.getpass('please input your password, 4 digital number\\n')\n",
    "if s == password:\n",
    "    print('welcome {}!'.format(name))\n",
    "else:\n",
    "    print('your passowrd is wrong')"
   ]
  },
  {
   "cell_type": "markdown",
   "id": "eea909f9",
   "metadata": {},
   "source": [
    "# Practice 3 "
   ]
  },
  {
   "cell_type": "markdown",
   "id": "bc3e5281",
   "metadata": {},
   "source": [
    "please reference below 2 digit password hacker program, complete 4 digit password hacker program "
   ]
  },
  {
   "cell_type": "code",
   "execution_count": null,
   "id": "268be822",
   "metadata": {},
   "outputs": [],
   "source": [
    "password = \"23\""
   ]
  },
  {
   "cell_type": "code",
   "execution_count": null,
   "id": "921815fe",
   "metadata": {},
   "outputs": [],
   "source": [
    "passwordSet = \"0123456789\"\n",
    "passwordTry = \"\"\n",
    "for i in range(0, len(passwordSet)):\n",
    "    for j in range(0, len(passwordSet)):\n",
    "        passwordTry = passwordSet[i] + passwordSet[j]\n",
    "        if(password == passwordTry):\n",
    "            print(\"you find it, password = \" + passwordTry)"
   ]
  },
  {
   "cell_type": "code",
   "execution_count": null,
   "id": "d0903096",
   "metadata": {},
   "outputs": [],
   "source": [
    "password = \"9987\""
   ]
  },
  {
   "cell_type": "code",
   "execution_count": 5,
   "id": "4da233db",
   "metadata": {},
   "outputs": [
    {
     "name": "stdout",
     "output_type": "stream",
     "text": [
      "you find it, password =9987\n",
      "CPU times: total: 0 ns\n",
      "Wall time: 13.4 ms\n"
     ]
    }
   ],
   "source": [
    "passwordSet = \"0123456789\"\n",
    "passwordTry = \"\"\n",
    "\n"
   ]
  }
 ],
 "metadata": {
  "kernelspec": {
   "display_name": "Python 3 (ipykernel)",
   "language": "python",
   "name": "python3"
  },
  "language_info": {
   "codemirror_mode": {
    "name": "ipython",
    "version": 3
   },
   "file_extension": ".py",
   "mimetype": "text/x-python",
   "name": "python",
   "nbconvert_exporter": "python",
   "pygments_lexer": "ipython3",
   "version": "3.10.9"
  }
 },
 "nbformat": 4,
 "nbformat_minor": 5
}

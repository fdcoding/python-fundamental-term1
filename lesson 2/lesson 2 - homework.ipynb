{
 "cells": [
  {
   "cell_type": "markdown",
   "id": "f50d095e",
   "metadata": {},
   "source": [
    "# question 1: show the multiplication table"
   ]
  },
  {
   "cell_type": "raw",
   "id": "f261ed9d",
   "metadata": {},
   "source": [
    "Please write a program that displays the first column of the multiplication table, you may get something like this after you run the program:\n",
    "\n",
    "1*1=1\n",
    "1*2=2\n",
    "1*3=3\n",
    "1*4=4\n",
    "1*5=5\n",
    "1*6=6\n",
    "1*7=7\n",
    "1*8=8\n",
    "1*9=9\n"
   ]
  },
  {
   "cell_type": "code",
   "execution_count": null,
   "id": "69f03173",
   "metadata": {},
   "outputs": [],
   "source": []
  },
  {
   "cell_type": "markdown",
   "id": "8178a93b",
   "metadata": {},
   "source": [
    "# question 2: make birthday cake"
   ]
  },
  {
   "cell_type": "raw",
   "id": "9bc3655a",
   "metadata": {},
   "source": [
    "Tom will have his 10 years birthday, one of his good friend use python make a special birthday cake like that:\n",
    "\n",
    "(0)\n",
    "(000)\n",
    "(00000)\n",
    "(0000000)\n",
    "(000000000)\n",
    "(00000000000)"
   ]
  },
  {
   "cell_type": "code",
   "execution_count": null,
   "id": "36dd89a2",
   "metadata": {},
   "outputs": [],
   "source": []
  }
 ],
 "metadata": {
  "kernelspec": {
   "display_name": "Python 3 (ipykernel)",
   "language": "python",
   "name": "python3"
  },
  "language_info": {
   "codemirror_mode": {
    "name": "ipython",
    "version": 3
   },
   "file_extension": ".py",
   "mimetype": "text/x-python",
   "name": "python",
   "nbconvert_exporter": "python",
   "pygments_lexer": "ipython3",
   "version": "3.10.9"
  }
 },
 "nbformat": 4,
 "nbformat_minor": 5
}

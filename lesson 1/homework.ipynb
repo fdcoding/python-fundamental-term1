{
 "cells": [
  {
   "cell_type": "code",
   "execution_count": null,
   "metadata": {},
   "outputs": [],
   "source": [
    "Create an if statement that prints the string “That’s too many”\n",
    "if the variable ninjas contains a number that’s less than 50, prints\n",
    "“It’ll be a struggle, but I can take ’em” if it’s less than 30, and\n",
    "prints “I can fight those ninjas!” if it’s less than 10. "
   ]
  },
  {
   "cell_type": "code",
   "execution_count": null,
   "metadata": {},
   "outputs": [],
   "source": []
  },
  {
   "cell_type": "code",
   "execution_count": null,
   "metadata": {},
   "outputs": [],
   "source": [
    "Create a loop that prints even numbers until it reaches your year\n",
    "of age or, if your age is an odd number, prints out odd numbers\n",
    "until it reaches your age."
   ]
  },
  {
   "cell_type": "code",
   "execution_count": null,
   "metadata": {},
   "outputs": [],
   "source": []
  },
  {
   "cell_type": "code",
   "execution_count": null,
   "metadata": {},
   "outputs": [],
   "source": [
    "If you were standing on the moon right now, your weight would be\n",
    "16.5 percent of what it is on Earth. You can calculate that by multiplying\n",
    "your Earth weight by 0.165.\n",
    "If you gained a kilo in weight every year for the next 15 years,\n",
    "what would your weight be when you visited the moon each year\n",
    "and at the end of the 15 years? Write a program using a for loop\n",
    "that prints your moon weight for each year"
   ]
  },
  {
   "cell_type": "code",
   "execution_count": null,
   "metadata": {},
   "outputs": [],
   "source": []
  },
  {
   "cell_type": "markdown",
   "metadata": {},
   "source": [
    "\n",
    "\n"
   ]
  }
 ],
 "metadata": {
  "kernelspec": {
   "display_name": "Python 3 (ipykernel)",
   "language": "python",
   "name": "python3"
  },
  "language_info": {
   "codemirror_mode": {
    "name": "ipython",
    "version": 3
   },
   "file_extension": ".py",
   "mimetype": "text/x-python",
   "name": "python",
   "nbconvert_exporter": "python",
   "pygments_lexer": "ipython3",
   "version": "3.10.9"
  }
 },
 "nbformat": 4,
 "nbformat_minor": 4
}

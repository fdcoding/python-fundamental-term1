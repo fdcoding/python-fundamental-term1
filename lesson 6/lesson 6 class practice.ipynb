{
 "cells": [
  {
   "cell_type": "markdown",
   "id": "45d204c7",
   "metadata": {},
   "source": [
    "### Practice 1 -- generate funny sentence  ( 5 minutes) \n",
    "\n",
    "This small program can generate some funny sentence, please write it and run it, you can also add or change some words as you like "
   ]
  },
  {
   "cell_type": "code",
   "execution_count": null,
   "id": "928664ae",
   "metadata": {},
   "outputs": [],
   "source": [
    "from random import randint\n",
    "zhu=['你','我','他','她']\n",
    "wei=['吃','穿','做','打','看']\n",
    "bin=['木瓜','草莓','猕猴桃','芒果','西瓜','甜菜','芹菜','卷心菜','金针菇']\n",
    "ding=['快乐的','炎热的','美丽的']\n",
    "dingyu=ding[randint(0,len(ding)-1)]\n",
    "zhuyu=zhu[randint(0,len(zhu)-1)]  \n",
    "weiyu=wei[randint(0,len(wei)-1)]\n",
    "binyu=bin[randint(0,len(bin)-1)]\n",
    "print(dingyu+zhuyu+weiyu+binyu)"
   ]
  },
  {
   "cell_type": "markdown",
   "id": "7283f00d",
   "metadata": {},
   "source": [
    "### Practice 2 -- Know List Methods"
   ]
  },
  {
   "cell_type": "code",
   "execution_count": null,
   "id": "11235f34",
   "metadata": {},
   "outputs": [],
   "source": [
    "areas = [\"hallway\", 11.25, \"kitchen\", 18.0, \"living room\",\n",
    "         20.0, \"bedroom\", 10.75, \"bathroom\", 9.50]\n",
    "\n",
    "# use list slice create new list including  hallway name and area\n",
    "\n",
    "hallway = areas[0:2]\n",
    "print(hallway)\n",
    "\n",
    "# slicing list to get downstair areas\n",
    "\n",
    "\n",
    "# add upstair areas to the list"
   ]
  },
  {
   "cell_type": "code",
   "execution_count": null,
   "id": "50663260",
   "metadata": {},
   "outputs": [],
   "source": [
    "areas = [\"hallway\", 11.25, \"kitchen\", 18.0,\n",
    "         \"living room\", 20.0, \"bedroom\", 10.75, \"bathroom\", 9.50]\n",
    "\n",
    "#Update the area of the bathroom to be 10.50 square meters instead of 9.50\n",
    "# Correct the bathroom area\n",
    "\n",
    "\n",
    "# Change \"living room\" to \"chill zone\"\n",
    "\n",
    "# Create the areas list and make some changes\n",
    "\n",
    "\n",
    "# Add poolhouse data to areas, new list is areas_1\n",
    "areas_1 = areas + [\"poolhouse\", 24.5]\n",
    "\n",
    "# Add garage data to areas_1, new list is areas_2\n",
    "\n",
    "# remove the hallway and area from the list"
   ]
  }
 ],
 "metadata": {
  "kernelspec": {
   "display_name": "Python 3 (ipykernel)",
   "language": "python",
   "name": "python3"
  },
  "language_info": {
   "codemirror_mode": {
    "name": "ipython",
    "version": 3
   },
   "file_extension": ".py",
   "mimetype": "text/x-python",
   "name": "python",
   "nbconvert_exporter": "python",
   "pygments_lexer": "ipython3",
   "version": "3.10.10"
  }
 },
 "nbformat": 4,
 "nbformat_minor": 5
}
